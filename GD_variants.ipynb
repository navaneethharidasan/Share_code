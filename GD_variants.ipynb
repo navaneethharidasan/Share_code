{
 "cells": [
  {
   "cell_type": "code",
   "execution_count": 2,
   "metadata": {},
   "outputs": [],
   "source": [
    "import pandas as pd\n",
    "import numpy as np\n",
    "import matplotlib.pyplot as plt\n",
    "from sklearn.linear_model import LinearRegression\n",
    "\n",
    "%matplotlib inline"
   ]
  },
  {
   "cell_type": "code",
   "execution_count": 6,
   "metadata": {},
   "outputs": [],
   "source": [
    "'''Create feaure and target'''\n",
    "\n",
    "rng = np.random.RandomState(42)\n",
    "x1 = rng.randint(1,30,200000)\n",
    "x2 = rng.randint(1,30,200000)\n",
    "\n",
    "y = 10 + 3*x1 - 2*x2 + np.random.random(200000)\n",
    "\n",
    "# The random initialization of weights: to maintain a different weighted and to obtain non-linear model: NN \n",
    "w = np.random.random([3])\n",
    "\n",
    "#Create the feature dataframe\n",
    "x = pd.DataFrame({\"intercept\":np.ones_like(x1),\"x1\":x1,\"x2\":x2})"
   ]
  },
  {
   "cell_type": "code",
   "execution_count": 7,
   "metadata": {},
   "outputs": [
    {
     "data": {
      "text/plain": [
       "LinearRegression(copy_X=True, fit_intercept=True, n_jobs=None, normalize=False)"
      ]
     },
     "execution_count": 7,
     "metadata": {},
     "output_type": "execute_result"
    }
   ],
   "source": [
    "'''Linear Regression'''\n",
    "\n",
    "lr = LinearRegression()\n",
    "lr.fit(x.iloc[:,1:],y)"
   ]
  },
  {
   "cell_type": "code",
   "execution_count": 8,
   "metadata": {},
   "outputs": [
    {
     "data": {
      "text/plain": [
       "10.499200395309064"
      ]
     },
     "execution_count": 8,
     "metadata": {},
     "output_type": "execute_result"
    }
   ],
   "source": [
    "lr.intercept_"
   ]
  },
  {
   "cell_type": "code",
   "execution_count": 9,
   "metadata": {},
   "outputs": [
    {
     "data": {
      "text/plain": [
       "array([ 2.99997437, -1.99996033])"
      ]
     },
     "execution_count": 9,
     "metadata": {},
     "output_type": "execute_result"
    }
   ],
   "source": [
    "lr.coef_"
   ]
  },
  {
   "cell_type": "code",
   "execution_count": 10,
   "metadata": {},
   "outputs": [],
   "source": [
    "#for reference\n",
    "w = [lr.intercept_ ]+ list(lr.coef_)"
   ]
  },
  {
   "cell_type": "markdown",
   "metadata": {},
   "source": [
    "## Custom Codes"
   ]
  },
  {
   "cell_type": "code",
   "execution_count": 11,
   "metadata": {},
   "outputs": [],
   "source": [
    "#y_ = X*Beta\n",
    "def predict_y(features,weights):\n",
    "    p = np.dot(features,weights)\n",
    "    return p"
   ]
  },
  {
   "cell_type": "code",
   "execution_count": 12,
   "metadata": {},
   "outputs": [],
   "source": [
    "#error = y - X*Beta\n",
    "def error_fx(target,features,weights):\n",
    "    e = target - np.dot(features,weights)\n",
    "    return e"
   ]
  },
  {
   "cell_type": "code",
   "execution_count": 13,
   "metadata": {},
   "outputs": [],
   "source": [
    "#cost function = error_transpose*error is a scalar\n",
    "def cost_function(target,features,weights):\n",
    "    e = error_fx(target,features,weights)\n",
    "    cf = np.dot(e.T,e)\n",
    "    return cf"
   ]
  },
  {
   "cell_type": "code",
   "execution_count": 14,
   "metadata": {},
   "outputs": [],
   "source": [
    "#gradient (f(x)) = -2*x_transpose*error. IN the implementation 2 is not used as it is a constant and it will be absorbed eventually.\n",
    "# Have same shape as weights\n",
    "def grad_fx(target,features,weights):\n",
    "    e = error_fx(target,features,weights)\n",
    "    grad = - np.dot(features.T,e)/features.shape[0]\n",
    "    return grad"
   ]
  },
  {
   "cell_type": "code",
   "execution_count": 34,
   "metadata": {},
   "outputs": [],
   "source": [
    "#SGD\n",
    "def lr_sgd (target,features,learning_rate,num_steps):\n",
    "#weights are not given as arguments but is to be changed inside the function, while learning rate is an inevitable argument.\n",
    "    cost = []\n",
    "    weights = np.random.random(features.shape[1])\n",
    "    \n",
    "    for i in np.arange(num_steps):\n",
    "        r_index = np.random.choice(range(features.shape[0]),10)\n",
    "        #choose random index from list of feaature size and sublist target and feature \n",
    "        target_batch = target[r_index]\n",
    "        features_batch = features.iloc[r_index,:]\n",
    "        weights -= learning_rate*grad_fx(target_batch,features_batch,weights)\n",
    "        #weights[0] -= 50*learning_rate*grad_fx(target_batch,features_batch,weights)[0] #To compensate for lower gradient value.\n",
    "        cost.append(cost_function(target,features,weights))\n",
    "        if i % (num_steps/10) == 0:\n",
    "            print(weights)\n",
    "    return [cost,weights]"
   ]
  },
  {
   "cell_type": "code",
   "execution_count": 36,
   "metadata": {},
   "outputs": [
    {
     "name": "stdout",
     "output_type": "stream",
     "text": [
      "[0.60960028 0.74652479 0.67246535]\n",
      "[ 0.73572249  3.2394723  -1.7762832 ]\n",
      "[ 0.87110199  3.2865478  -1.70755641]\n",
      "[ 0.99516439  3.28708666 -1.73144959]\n",
      "[ 1.12184759  3.28487404 -1.73544298]\n",
      "[ 1.25235637  3.2564381  -1.70300408]\n",
      "[ 1.38401755  3.25016749 -1.72280401]\n",
      "[ 1.50733685  3.26033501 -1.73311101]\n",
      "[ 1.6289837   3.26818973 -1.76030482]\n",
      "[ 1.74465026  3.23534092 -1.71077034]\n"
     ]
    }
   ],
   "source": [
    "sgd_cost,sgd_weight = lr_sgd(y,x,0.001,1000)#cannot use larger learning rate"
   ]
  },
  {
   "cell_type": "code",
   "execution_count": 18,
   "metadata": {},
   "outputs": [
    {
     "data": {
      "text/plain": [
       "array([0.99845312, 0.99904562, 0.99927361])"
      ]
     },
     "execution_count": 18,
     "metadata": {},
     "output_type": "execute_result"
    }
   ],
   "source": [
    "sgd_weight/w"
   ]
  },
  {
   "cell_type": "code",
   "execution_count": 37,
   "metadata": {},
   "outputs": [
    {
     "data": {
      "text/plain": [
       "<matplotlib.axes._subplots.AxesSubplot at 0x7f2aa4abe9d0>"
      ]
     },
     "execution_count": 37,
     "metadata": {},
     "output_type": "execute_result"
    },
    {
     "data": {
      "image/png": "[encoded data removed]",
      "text/plain": [
       "<Figure size 432x288 with 1 Axes>"
      ]
     },
     "metadata": {
      "needs_background": "light"
     },
     "output_type": "display_data"
    }
   ],
   "source": [
    "np.log(pd.DataFrame({\"cost\":sgd_cost})).plot()"
   ]
  },
  {
   "cell_type": "markdown",
   "metadata": {},
   "source": [
    "## **SGD with Momentum**"
   ]
  },
  {
   "cell_type": "code",
   "execution_count": 38,
   "metadata": {},
   "outputs": [],
   "source": [
    "#SGD with momentum\n",
    "def lr_sgd_mom (target,features,learning_rate,num_steps):\n",
    "    cost = []\n",
    "    weights = np.random.random(features.shape[1])\n",
    "    vw = np.zeros(features.shape[1])\n",
    "    beta = 0.9\n",
    "    \n",
    "    for i in np.arange(num_steps):\n",
    "        r_index = np.random.choice(range(features.shape[0]),10)\n",
    "        #choose random index from list of feaature size and sublist target and feature \n",
    "        target_batch = target[r_index]\n",
    "        features_batch = features.iloc[r_index,:]\n",
    "        \n",
    "        vw = beta*vw + (1-beta)*grad_fx(target_batch,features_batch,weights)\n",
    "        vw_a = vw/(1-(beta**(i+1)))\n",
    "        weights -= learning_rate*vw_a \n",
    "        #weights[0] -= 50*learning_rate*vw_a[0] #To compensate for lower gradient value.\n",
    "        if i % (num_steps/10) == 0:\n",
    "            print(weights)\n",
    "        cost.append(cost_function(target,features,weights))\n",
    "    return cost,weights"
   ]
  },
  {
   "cell_type": "code",
   "execution_count": 58,
   "metadata": {},
   "outputs": [
    {
     "name": "stdout",
     "output_type": "stream",
     "text": [
      "[0.33508206 8.50866303 2.99350089]\n",
      "[ 7.22786371  2.97207677 -1.80494833]\n",
      "[ 8.11624604  3.04260689 -1.96106213]\n",
      "[ 8.70488192  3.07606262 -1.92928063]\n",
      "[ 9.1525909   3.03632606 -1.95706226]\n",
      "[ 9.48428228  3.012388   -1.93022442]\n",
      "[ 9.71773475  3.03681879 -1.99426043]\n",
      "[ 9.90255818  3.02084591 -1.97379322]\n",
      "[10.04321676  2.99224005 -1.98861178]\n",
      "[10.15111719  3.00114986 -2.00457063]\n"
     ]
    }
   ],
   "source": [
    "sgdm_cost,sgdm_weights = lr_sgd_mom(y,x,0.02,1000)"
   ]
  },
  {
   "cell_type": "code",
   "execution_count": 59,
   "metadata": {},
   "outputs": [
    {
     "data": {
      "text/plain": [
       "<matplotlib.axes._subplots.AxesSubplot at 0x7f2aa3a25210>"
      ]
     },
     "execution_count": 59,
     "metadata": {},
     "output_type": "execute_result"
    },
    {
     "data": {
      "image/png": "[encoded data removed]",
      "text/plain": [
       "<Figure size 432x288 with 1 Axes>"
      ]
     },
     "metadata": {
      "needs_background": "light"
     },
     "output_type": "display_data"
    }
   ],
   "source": [
    "np.log(pd.DataFrame({\"cost_sgd\":sgd_cost,\"cost_sgdm\":sgdm_cost})).plot()"
   ]
  },
  {
   "cell_type": "markdown",
   "metadata": {},
   "source": [
    "## **RMSprop**"
   ]
  },
  {
   "cell_type": "code",
   "execution_count": 41,
   "metadata": {},
   "outputs": [],
   "source": [
    "#RMS_prop\n",
    "def lr_rms_prop(target,features,learning_rate,num_steps):\n",
    "    cost = []\n",
    "    weights = np.random.random(features.shape[1])\n",
    "    sw = np.zeros(features.shape[1])\n",
    "    beta = 0.9\n",
    "    \n",
    "    for i in np.arange(num_steps):\n",
    "        r_index = np.random.choice(range(features.shape[0]),10)\n",
    "        #choose random index from list of feaature size and sublist target and feature \n",
    "        target_batch = target[r_index]\n",
    "        features_batch = features.iloc[r_index,:]\n",
    "        grad_f = grad_fx(target_batch,features_batch,weights)\n",
    "        \n",
    "        sw = beta*sw + (1-beta)*grad_f**2\n",
    "        sw_a = sw/(1-(beta**(i+1)))\n",
    "        weights -= learning_rate*(grad_f/(sw_a**0.5 + 1e-08)) \n",
    "        #weights[0] -= 50*learning_rate*(grad_f[0]/(sw_a[0]**0.5 + 1e-08)) #To compensate for lower gradient value.\n",
    "        if i % (num_steps/10) == 0:\n",
    "            print(weights)\n",
    "        cost.append(cost_function(target,features,weights))\n",
    "    return cost,weights"
   ]
  },
  {
   "cell_type": "code",
   "execution_count": 55,
   "metadata": {},
   "outputs": [
    {
     "name": "stdout",
     "output_type": "stream",
     "text": [
      "[0.3620593  0.98589113 0.71229558]\n",
      "[ 1.86144129  3.22592223 -1.78113859]\n",
      "[ 5.19808334  3.14641721 -1.8539944 ]\n",
      "[ 8.49783308  3.05499266 -1.93331644]\n",
      "[10.43701759  2.98602104 -1.98825357]\n",
      "[10.5524732   2.98635617 -2.00854616]\n",
      "[10.48759308  2.99997699 -2.01596961]\n",
      "[10.48274946  2.99539689 -2.01008061]\n",
      "[10.5136335   3.02626876 -1.99454942]\n",
      "[10.50637018  2.99777281 -2.01891415]\n"
     ]
    }
   ],
   "source": [
    "rm_cost,rm_weights = lr_rms_prop(y,x,0.05,1000)"
   ]
  },
  {
   "cell_type": "code",
   "execution_count": 60,
   "metadata": {},
   "outputs": [
    {
     "data": {
      "text/plain": [
       "<matplotlib.axes._subplots.AxesSubplot at 0x7f2aa39fb5d0>"
      ]
     },
     "execution_count": 60,
     "metadata": {},
     "output_type": "execute_result"
    },
    {
     "data": {
      "image/png": "[encoded data removed]",
      "text/plain": [
       "<Figure size 432x288 with 1 Axes>"
      ]
     },
     "metadata": {
      "needs_background": "light"
     },
     "output_type": "display_data"
    }
   ],
   "source": [
    "np.log(pd.DataFrame({\"cost_sgd\":sgd_cost,\"cost_sgdm\":sgdm_cost,\"cost_rmsp\":rm_cost})).plot()"
   ]
  },
  {
   "cell_type": "markdown",
   "metadata": {},
   "source": [
    "## **Adaptive momentum Optimization-AdaM** -combination of SGDM & RMSP"
   ]
  },
  {
   "cell_type": "code",
   "execution_count": 50,
   "metadata": {},
   "outputs": [],
   "source": [
    "#RMS_prop\n",
    "def lr_adam(target,features,learning_rate,num_steps):\n",
    "    cost = []\n",
    "    weights = np.random.random(features.shape[1])\n",
    "    sw = np.zeros(features.shape[1])\n",
    "    vw = np.zeros(features.shape[1])\n",
    "    beta = 0.9\n",
    "    \n",
    "    for i in np.arange(num_steps):\n",
    "        r_index = np.random.choice(range(features.shape[0]),10)\n",
    "        #choose random index from list of feaature size and sublist target and feature \n",
    "        target_batch = target[r_index]\n",
    "        features_batch = features.iloc[r_index,:]\n",
    "        grad_f = grad_fx(target_batch,features_batch,weights)\n",
    "        \n",
    "        vw = beta*vw + (1-beta)*grad_f\n",
    "        sw = beta*sw + (1-beta)*grad_f**2\n",
    "        vw_a = vw/(1-(beta**(i+1)))\n",
    "        sw_a = sw/(1-(beta**(i+1)))\n",
    "        weights -= learning_rate*(vw_a/(sw_a**0.5 + 1e-08)) \n",
    "        #weights[0] -= 50*learning_rate*(grad_f[0]/(sw_a[0]**0.5 + 1e-08)) #To compensate for lower gradient value.\n",
    "        if i % (num_steps/10) == 0:\n",
    "            print(weights)\n",
    "        cost.append(cost_function(target,features,weights))\n",
    "    return cost,weights"
   ]
  },
  {
   "cell_type": "code",
   "execution_count": 53,
   "metadata": {},
   "outputs": [
    {
     "name": "stdout",
     "output_type": "stream",
     "text": [
      "[0.88419715 0.6984584  0.11930405]\n",
      "[ 3.42995036  3.23681253 -1.78179023]\n",
      "[ 6.48458341  3.10354921 -1.86763238]\n",
      "[ 9.17320107  3.04599135 -1.95376498]\n",
      "[10.49327077  2.99402513 -1.9988357 ]\n",
      "[10.55217706  2.98588502 -1.98994567]\n",
      "[10.5103317   3.01084307 -2.00421456]\n",
      "[10.48277183  3.00135464 -1.99755095]\n",
      "[10.52765673  3.00784891 -1.99430258]\n",
      "[10.4713982   3.00596328 -2.00015739]\n"
     ]
    }
   ],
   "source": [
    "adam_cost, adam_weights = lr_adam(y,x,0.05,1000)"
   ]
  },
  {
   "cell_type": "code",
   "execution_count": 61,
   "metadata": {},
   "outputs": [
    {
     "data": {
      "text/plain": [
       "<matplotlib.axes._subplots.AxesSubplot at 0x7f2aa393c290>"
      ]
     },
     "execution_count": 61,
     "metadata": {},
     "output_type": "execute_result"
    },
    {
     "data": {
      "image/png": "[encoded data removed]",
      "text/plain": [
       "<Figure size 432x288 with 1 Axes>"
      ]
     },
     "metadata": {
      "needs_background": "light"
     },
     "output_type": "display_data"
    }
   ],
   "source": [
    "np.log(pd.DataFrame({\"cost_sgd\":sgd_cost,\"cost_sgdm\":sgdm_cost,\"cost_rmsp\":rm_cost,\"cost_adam\":adam_cost})).plot()"
   ]
  },
  {
   "cell_type": "code",
   "execution_count": null,
   "metadata": {},
   "outputs": [],
   "source": []
  }
 ],
 "metadata": {
  "kernelspec": {
   "display_name": "Python 3",
   "language": "python",
   "name": "python3"
  },
  "language_info": {
   "codemirror_mode": {
    "name": "ipython",
    "version": 3
   },
   "file_extension": ".py",
   "mimetype": "text/x-python",
   "name": "python",
   "nbconvert_exporter": "python",
   "pygments_lexer": "ipython3",
   "version": "3.7.4"
  }
 },
 "nbformat": 4,
 "nbformat_minor": 4
}
